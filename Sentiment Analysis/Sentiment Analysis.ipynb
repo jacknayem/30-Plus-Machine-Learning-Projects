{
 "cells": [
  {
   "cell_type": "markdown",
   "metadata": {},
   "source": [
    "<h1>Sentiment Analysis</h1>\n",
    "<ul>\n",
    "    <li><a href=\"#1\" style=\"text-decoration: none;\">Why we to sentiment analyze?</a></li>\n",
    "    <li><a href=\"#2\" style=\"text-decoration: none;\">What data we used?</a></li>\n",
    "    <li>\n",
    "        <ul>\n",
    "            <li><a href=\"#3\" style=\"text-decoration: none;\">Load Python libray and download some essential data</a></li>\n",
    "            <li><a href=\"#4\" style=\"text-decoration: none;\">Load data</a></li>\n",
    "            <li><a href=\"#5\" style=\"text-decoration: none;\">Preprocess and Visualization</a></li>\n",
    "            <li><a href=\"#6\" style=\"text-decoration: none;\">Text Preprocess</a></li>\n",
    "            <li><a href=\"#7\" style=\"text-decoration: none;\">Feature Extraction</a></li>\n",
    "            <li><a href=\"#8\" style=\"text-decoration: none;\">Prediction</a></li>\n",
    "            <li><a href=\"#9\" style=\"text-decoration: none;\">Evaluation</a></li>\n",
    "        </ul>\n",
    "    </li>\n",
    "</ul>\n",
    "\n",
    "<h3 id='1'>Why we to sentiment analyze?</h3>\n",
    "<p>Discussing things you care about can be difficult. The threat of abuse and harassment online means that many people stop expressing themselves and give up on seeking different opinions. Platforms struggle to effectively facilitate conversations, leading many communities to limit or completely shut down user comments.</p>\n",
    "\n",
    "<h3 id='2'>Is data avaiable</h3>\n",
    "<p>I don't know the actual source of Data. if you want to use this data. You can download from here</p>\n",
    "\n",
    "<h3 id='3'>Load Python libray and download some essential data</h3>"
   ]
  },
  {
   "cell_type": "code",
   "execution_count": 1,
   "metadata": {},
   "outputs": [
    {
     "name": "stderr",
     "output_type": "stream",
     "text": [
      "[nltk_data] Downloading package stopwords to\n",
      "[nltk_data]     C:\\Users\\User\\AppData\\Roaming\\nltk_data...\n",
      "[nltk_data]   Package stopwords is already up-to-date!\n",
      "[nltk_data] Downloading package wordnet to\n",
      "[nltk_data]     C:\\Users\\User\\AppData\\Roaming\\nltk_data...\n",
      "[nltk_data]   Package wordnet is already up-to-date!\n"
     ]
    }
   ],
   "source": [
    "# numpy array is a fundamental python library for scientific computing. The main goal of this library is to\n",
    "# provied array, which single to multi dimensional array. Those array is 50x faster than python provided arrray.\n",
    "# For example, emathamatic, logic, shape manipuation, I/O, Randndom simulation, DFT, basic linear algebra, basic\n",
    "# statistic opeartion and so on.\n",
    "import numpy as np\n",
    "# The re or regular expression is use to substitute the sting. Patterns or String could be get in Unicode or 8-bit string.\n",
    "# Both are not possible to mixed up. It is not possible to replace Unicode string by 0-bit string or vice-versa. To replace\n",
    "# any string there must be same type. The backslash used in regular expression module to indicate special forms.\n",
    "import re\n",
    "# The nltk or Natural Language toolkit works for human language data. There have more than 50 corpora and lexical resourse\n",
    "# such as WordNet as well as it is good for text classification, tokenization, stemming and so on.\n",
    "import nltk\n",
    "# This module use to load any dataset file\n",
    "from sklearn.datasets import load_files\n",
    "nltk.download('stopwords')\n",
    "nltk.download('wordnet')\n",
    "# The pickle use to conver any python object such as list, dict into a charecter stream.This charecter stream hold all \n",
    "# of the necessary inpormation to reconstruct python object in another python script.\n",
    "import pickle\n",
    "# Load the stopwors corpus\n",
    "from nltk.corpus import stopwords\n",
    "import pandas as pd\n",
    "import matplotlib.pyplot as plt"
   ]
  },
  {
   "cell_type": "markdown",
   "metadata": {},
   "source": [
    "<h3 id='3'>Load data</h3>"
   ]
  },
  {
   "cell_type": "code",
   "execution_count": 60,
   "metadata": {},
   "outputs": [],
   "source": [
    "movies_data = load_files(r\"txt_sentoken/\")\n",
    "data = {\"text\":movies_data.data, \"target\":movies_data.target}\n",
    "df = pd.DataFrame(data)"
   ]
  },
  {
   "cell_type": "markdown",
   "metadata": {},
   "source": [
    "<h3 id='5'>Preprocess and Visualization</h3>"
   ]
  },
  {
   "cell_type": "code",
   "execution_count": 61,
   "metadata": {},
   "outputs": [
    {
     "data": {
      "text/html": [
       "<div>\n",
       "<style scoped>\n",
       "    .dataframe tbody tr th:only-of-type {\n",
       "        vertical-align: middle;\n",
       "    }\n",
       "\n",
       "    .dataframe tbody tr th {\n",
       "        vertical-align: top;\n",
       "    }\n",
       "\n",
       "    .dataframe thead th {\n",
       "        text-align: right;\n",
       "    }\n",
       "</style>\n",
       "<table border=\"1\" class=\"dataframe\">\n",
       "  <thead>\n",
       "    <tr style=\"text-align: right;\">\n",
       "      <th></th>\n",
       "      <th>text</th>\n",
       "      <th>target</th>\n",
       "    </tr>\n",
       "  </thead>\n",
       "  <tbody>\n",
       "    <tr>\n",
       "      <th>0</th>\n",
       "      <td>b\"arnold schwarzenegger has been an icon for a...</td>\n",
       "      <td>0</td>\n",
       "    </tr>\n",
       "    <tr>\n",
       "      <th>1</th>\n",
       "      <td>b\"good films are hard to find these days . \\ng...</td>\n",
       "      <td>1</td>\n",
       "    </tr>\n",
       "    <tr>\n",
       "      <th>2</th>\n",
       "      <td>b\"quaid stars as a man who has taken up the pr...</td>\n",
       "      <td>1</td>\n",
       "    </tr>\n",
       "    <tr>\n",
       "      <th>3</th>\n",
       "      <td>b'we could paraphrase michelle pfieffer\\'s cha...</td>\n",
       "      <td>0</td>\n",
       "    </tr>\n",
       "    <tr>\n",
       "      <th>4</th>\n",
       "      <td>b\"kolya is one of the richest films i've seen ...</td>\n",
       "      <td>1</td>\n",
       "    </tr>\n",
       "  </tbody>\n",
       "</table>\n",
       "</div>"
      ],
      "text/plain": [
       "                                                text  target\n",
       "0  b\"arnold schwarzenegger has been an icon for a...       0\n",
       "1  b\"good films are hard to find these days . \\ng...       1\n",
       "2  b\"quaid stars as a man who has taken up the pr...       1\n",
       "3  b'we could paraphrase michelle pfieffer\\'s cha...       0\n",
       "4  b\"kolya is one of the richest films i've seen ...       1"
      ]
     },
     "execution_count": 61,
     "metadata": {},
     "output_type": "execute_result"
    }
   ],
   "source": [
    "df.head()"
   ]
  },
  {
   "cell_type": "code",
   "execution_count": 62,
   "metadata": {},
   "outputs": [
    {
     "data": {
      "text/plain": [
       "(2000, 2)"
      ]
     },
     "execution_count": 62,
     "metadata": {},
     "output_type": "execute_result"
    }
   ],
   "source": [
    "df.shape"
   ]
  },
  {
   "cell_type": "code",
   "execution_count": 63,
   "metadata": {},
   "outputs": [
    {
     "data": {
      "text/plain": [
       "1    1000\n",
       "0    1000\n",
       "Name: target, dtype: int64"
      ]
     },
     "execution_count": 63,
     "metadata": {},
     "output_type": "execute_result"
    }
   ],
   "source": [
    "df.target.value_counts()"
   ]
  },
  {
   "cell_type": "code",
   "execution_count": 64,
   "metadata": {},
   "outputs": [
    {
     "data": {
      "image/png": "[encoded data removed]",
      "text/plain": [
       "<Figure size 432x288 with 1 Axes>"
      ]
     },
     "metadata": {},
     "output_type": "display_data"
    }
   ],
   "source": [
    "plt.pie(df.target.value_counts(), labels = ['Positive', 'Negative'], autopct='%1.2f%%')\n",
    "plt.show()"
   ]
  },
  {
   "cell_type": "code",
   "execution_count": 65,
   "metadata": {},
   "outputs": [
    {
     "data": {
      "image/png": "[encoded data removed]",
      "text/plain": [
       "<Figure size 432x288 with 1 Axes>"
      ]
     },
     "metadata": {
      "needs_background": "light"
     },
     "output_type": "display_data"
    }
   ],
   "source": [
    "length = df.text.str.len()\n",
    "length.hist(bins=500)\n",
    "plt.xlabel('Number of Text')\n",
    "plt.ylabel('Length')\n",
    "plt.show()"
   ]
  },
  {
   "cell_type": "code",
   "execution_count": 67,
   "metadata": {},
   "outputs": [],
   "source": [
    "X = df.text\n",
    "y = df.target"
   ]
  },
  {
   "cell_type": "markdown",
   "metadata": {},
   "source": [
    "<h3 id='6'>Text Preprocess</h3>"
   ]
  },
  {
   "cell_type": "code",
   "execution_count": 68,
   "metadata": {},
   "outputs": [],
   "source": [
    "documents = []\n",
    "# lematization works for grouping together of similar words. For example. works and work are similar meaning, at this \n",
    "# point the job of lemmatizer is to remove 's' from works and include in 'work' group. \n",
    "from nltk.stem import WordNetLemmatizer\n",
    "stemmer = WordNetLemmatizer()\n",
    "for sen in range(0,len(X)):\n",
    "    # Remove all the special charecter\n",
    "    document = re.sub(r'\\W', ' ', str(X[sen]))\n",
    "    # Remove all the single charecter\n",
    "    document = re.sub(r'\\s+[a-zA-Z]\\s+',' ',document)\n",
    "    # Remove the single charecter from start\n",
    "    document = re.sub(r'\\^[A-Za-z]\\s+',' ', document)\n",
    "    # Replace multiple space with single space\n",
    "    document = re.sub(r'\\s+', ' ', document, flags=re.I)\n",
    "    # Removing prefixed 'b'\n",
    "    document = re.sub(r'^b\\s+', ' ', document)\n",
    "    # Make all of the charecter lower\n",
    "    document = document.lower()\n",
    "    # lemmatization\n",
    "    document = document.split()\n",
    "    document = [stemmer.lemmatize(word) for word in document]\n",
    "    document = ' '.join(document)\n",
    "\n",
    "    documents.append(document)"
   ]
  },
  {
   "cell_type": "markdown",
   "metadata": {},
   "source": [
    "<h3 id='7'>Feature Extraction</h3>"
   ]
  },
  {
   "cell_type": "code",
   "execution_count": 70,
   "metadata": {},
   "outputs": [],
   "source": [
    "# Machine can not undersand the raw raw text. They need to convert text into number. The CountVectorizer calss of \n",
    "# sklearn.feature_extraction.text library uses to conver text to numerical feature. There are few parameter which \n",
    "# is really important. Here we use some paramerer, first one is max_feature, which use to identify most frequent 1500 words\n",
    "# from bag of word. Whihc is really good to classify.\n",
    "from sklearn.feature_extraction.text import CountVectorizer\n",
    "vectorizer = CountVectorizer(max_features=1500, min_df = 5, max_df=0.7, stop_words = stopwords.words('english'))\n",
    "X = vectorizer.fit_transform(documents).toarray()"
   ]
  },
  {
   "cell_type": "code",
   "execution_count": 71,
   "metadata": {},
   "outputs": [],
   "source": [
    "# This is really good use to weighting scheme in information retrival.\n",
    "from sklearn.feature_extraction.text import TfidfTransformer\n",
    "tfidftransformer = TfidfTransformer()\n",
    "X = tfidftransformer.fit_transform(X).toarray()"
   ]
  },
  {
   "cell_type": "markdown",
   "metadata": {},
   "source": [
    "<h3 id='8'>Prediction</h3>"
   ]
  },
  {
   "cell_type": "code",
   "execution_count": 72,
   "metadata": {},
   "outputs": [],
   "source": [
    "# We use train_test_split function to devide full database into training set and test_set\n",
    "from sklearn.model_selection import train_test_split\n",
    "X_train, X_test, y_train, y_test = train_test_split(X, y, test_size=0.2, random_state=0)"
   ]
  },
  {
   "cell_type": "code",
   "execution_count": 75,
   "metadata": {},
   "outputs": [],
   "source": [
    "from sklearn.ensemble import RandomForestClassifier \n",
    "classifier = RandomForestClassifier(n_estimators=1000, random_state=0)\n",
    "classifier.fit(X_train,y_train)\n",
    "y_pred = classifier.predict(X_test)"
   ]
  },
  {
   "cell_type": "markdown",
   "metadata": {},
   "source": [
    "<h3 id='9'>Evaluation</h3>"
   ]
  },
  {
   "cell_type": "code",
   "execution_count": 78,
   "metadata": {},
   "outputs": [
    {
     "name": "stdout",
     "output_type": "stream",
     "text": [
      "Classification Report\n",
      "              precision    recall  f1-score   support\n",
      "\n",
      "           0       0.86      0.87      0.86       208\n",
      "           1       0.85      0.84      0.85       192\n",
      "\n",
      "    accuracy                           0.85       400\n",
      "   macro avg       0.85      0.85      0.85       400\n",
      "weighted avg       0.85      0.85      0.85       400\n",
      "\n"
     ]
    }
   ],
   "source": [
    "from sklearn.metrics import classification_report, confusion_matrix, accuracy_score\n",
    "print('Classification Report')\n",
    "print(classification_report(y_test,y_pred))"
   ]
  },
  {
   "cell_type": "code",
   "execution_count": 80,
   "metadata": {},
   "outputs": [
    {
     "name": "stdout",
     "output_type": "stream",
     "text": [
      "Confusion Matrix\n",
      "[[180  28]\n",
      " [ 30 162]]\n"
     ]
    }
   ],
   "source": [
    "print('Confusion Matrix')\n",
    "print(confusion_matrix(y_test,y_pred))"
   ]
  },
  {
   "cell_type": "code",
   "execution_count": 82,
   "metadata": {},
   "outputs": [
    {
     "name": "stdout",
     "output_type": "stream",
     "text": [
      "Accuracy Score: 0.855\n"
     ]
    }
   ],
   "source": [
    "print('Accuracy Score:',accuracy_score(y_test,y_pred))"
   ]
  },
  {
   "cell_type": "code",
   "execution_count": null,
   "metadata": {},
   "outputs": [],
   "source": []
  }
 ],
 "metadata": {
  "kernelspec": {
   "display_name": "Python 3",
   "language": "python",
   "name": "python3"
  },
  "language_info": {
   "codemirror_mode": {
    "name": "ipython",
    "version": 3
   },
   "file_extension": ".py",
   "mimetype": "text/x-python",
   "name": "python",
   "nbconvert_exporter": "python",
   "pygments_lexer": "ipython3",
   "version": "3.7.1"
  }
 },
 "nbformat": 4,
 "nbformat_minor": 4
}
